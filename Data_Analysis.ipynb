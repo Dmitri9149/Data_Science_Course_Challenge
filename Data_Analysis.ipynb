{
 "cells": [
  {
   "cell_type": "markdown",
   "metadata": {},
   "source": [
    "Dmitri Kalyaev"
   ]
  },
  {
   "cell_type": "markdown",
   "metadata": {},
   "source": [
    "# 1. What is Generalized Linear Model?\n"
   ]
  },
  {
   "cell_type": "markdown",
   "metadata": {},
   "source": [
    "In general linear model the response (there may be several variables) is modelled as \n",
    "linear function of explanatory variables (plus an error term). General here means : more than one \n",
    "explanatory variable.\n",
    "Generalised linear model: there is linear predictor (similat to general model) + 2 functions.\n",
    "A \"link\": desribe how the mean of response variable is dependent on the predictor. \n",
    "A \"variance\": describe how the variance of the response variable is dependent on the mean.\n",
    "        \n",
    "        \n",
    "    "
   ]
  },
  {
   "cell_type": "markdown",
   "metadata": {},
   "source": [
    "# 2. Name a few statistical models you know?\n"
   ]
  },
  {
   "cell_type": "markdown",
   "metadata": {},
   "source": [
    "Generalised linear model (Linear regression as a submodel), Stochastic differential equations, \n",
    "Bayesian model, Logistical Regression, Method of principal components, Desicion Tree, Random Forest."
   ]
  },
  {
   "cell_type": "markdown",
   "metadata": {},
   "source": [
    "# 3. What is linear regression? Advantages & disadvantages?\n"
   ]
  },
  {
   "cell_type": "markdown",
   "metadata": {},
   "source": [
    "Linear Regression: Regressional analysis try to explain relations between variables. There is dependent variable (which we try to explain) and explanatory variables. In the liner regression we assume the dependent variable is possible to express as linear combination of explanatory variables. \n",
    "\n",
    "The advantages: \n",
    "1.It is very simple dependence, easy to analyse and to compute\n",
    "2.There are many cases the dependese is lenear or very close to linear.<br/>\n",
    "The disadvandages\n",
    "1.Not all dependensies are expressable as linear combination of explanatory variables.\n",
    "2.In case of dynamical systems the natural expressions are give by another models like a sysyem of \n",
    "ordinary differential equations. So in many cases we have to use models of another type.\n",
    "3.In many cases we have to use Desicion Tree methods (if we have to use non linear boundaries for classification).  "
   ]
  },
  {
   "cell_type": "markdown",
   "metadata": {},
   "source": [
    "# 4. What is the formula of simple linear regression ?\n"
   ]
  },
  {
   "cell_type": "markdown",
   "metadata": {},
   "source": [
    "Consider the model function: $ \\alpha + \\beta x $ : \n",
    "<br/>\n",
    "which describes the line with slope $\\beta$ and intercept $\\alpha$\n",
    "<br/>\n",
    "We observe n data pairs and name them : \n",
    "<br/>\n",
    "$\n",
    "\\begin{align}\n",
    "{x_i, y_i, i = 1,...,n}\n",
    "\\end{align}\n",
    "$\n",
    "\n",
    "\n",
    "\n",
    "We can describe the underlying relationship between $y_i$ and $x_i$ using the error term: $\\epsilon_i$\n",
    "<br/>\n",
    "\n",
    "$\n",
    "\\begin{align}\n",
    "\\epsilon_i = y_i - \\alpha - \\beta x_i\n",
    "\\end{align}\n",
    "$\n",
    "\n",
    "The goal is to find estimated values $\\hat{\\alpha}$ and $\\hat{\\beta}$ for the $\\alpha$ and $\\beta$ which \n",
    "<br/>\n",
    "provide in some sense the \"best\" fit for the data points.\n",
    "<br/>\n",
    "\n",
    "\n",
    "In the \"least - squares\" approach this is given by the formuas:\n",
    "\n",
    "<br/>\n",
    "$\n",
    "\\begin{align}\n",
    "\\hat{\\alpha} = \\bar{y} - \\hat{\\beta}\\bar{x}\n",
    "\\end{align}\n",
    "$\n",
    "\n",
    "\n",
    "$\n",
    "\\begin{equation*}\n",
    "\\hat{\\beta} = \\frac{ \\sum_{k=1}^n (x_i - \\bar{x})(y_i - \\bar{y})}{ \\sum_{k=1}^n (x_i - \\bar{x})^2 }\n",
    "\\end{equation*}\n",
    "$\n",
    "\n",
    "\n",
    "Here $\\bar{x}$ and $\\bar{y}$ are the average of $x_i$ and ${y_i}$ respectively\n",
    "\n",
    "\n"
   ]
  },
  {
   "cell_type": "markdown",
   "metadata": {},
   "source": [
    "# 5. What is logistic regression? Advantages & disadvantages?"
   ]
  },
  {
   "cell_type": "markdown",
   "metadata": {},
   "source": [
    "Logistic regression is regression analysis , but the dependent variable is categorical (most usually the binary).\n",
    "Logistic regression uses an equation as the representation, very much like linear regression.<br/>\n",
    "Input values (x) are combined linearly using weights or coefficient values to predict an output value (y). A key difference from linear regression is that the output value being modeled is a binary values (0 or 1) rather than a numeric value (in general case the output value is categorical). \n",
    "To get the bunary output from the linear combination of inputs , the logistic function is used.\n",
    "\n",
    "The algoritm is : very efficient, does not require too many computational resourses, it is highly interpretable, no need to scale input features, no need for tuning, easy to regularize, it outputs well- calibrated predicted probabilities, easy to implement and to train. Good suitable to start with it.<br/> \n",
    "Disadvantages: we can not solve non linear problems with logistic regression since it's decison surface is linear. In many cases (non linear)  a simple desicion tree is much better. Before using the logictic regression we have to identify all the important independent variables. In case of many correlated inputs or sparce data the learning process may diverge. The overfitting happens quite often with the model. \n"
   ]
  },
  {
   "cell_type": "markdown",
   "metadata": {},
   "source": [
    "# 6. Why is logistic regression very popular?"
   ]
  },
  {
   "cell_type": "markdown",
   "metadata": {},
   "source": [
    "In many cases data are linarly separable. The model is very simple and intuitive for understanding.\n",
    "It can be easily modified to predict multiple classes.  \n",
    "No need for too many computational resourses. Easy to interpret (see n.5 above also)."
   ]
  },
  {
   "cell_type": "markdown",
   "metadata": {},
   "source": [
    "# Python code challenge"
   ]
  },
  {
   "cell_type": "markdown",
   "metadata": {},
   "source": [
    "Have the function question_marks(string) take the string string parameter, which will contain single digit numbers, letters, and question marks, and check if there are exactly 3 question marks between every pair of two numbers that add up to 10.\n",
    "If so, then your program should return the string \"true\", otherwise it should return the string \"false\".\n",
    "If there aren't any two numbers that add up to 10 in the string, then your program should return \"false\" as well.\n",
    "For example:\n",
    "If str is \"arrb6???4xxbl5???eee5\" then your program should return \"true\" because there are exactly 3 question marks between 6 and 4, and 3 question marks between 5 and 5 at the end of the string."
   ]
  },
  {
   "cell_type": "code",
   "execution_count": 1,
   "metadata": {},
   "outputs": [
    {
     "name": "stdout",
     "output_type": "stream",
     "text": [
      "arrb6???4xxbl5???eee5\n",
      "True\n"
     ]
    }
   ],
   "source": [
    "import pandas as pd\n",
    "\n",
    "def question_marks(string: str) :\n",
    "    \n",
    "    TOKEN = '?'\n",
    "    SUMMA = 10 \n",
    "    NUM_OF_QMARKS = 3\n",
    "\n",
    "    \n",
    "    digits=dict() # All Digits {position:value} \n",
    "    for i in range(len(string)):\n",
    "        if string[i].isdigit():\n",
    "             digits[i]=int(string[i])\n",
    "     \n",
    "\n",
    "\n",
    "    pairs = list() # All \"suspect\" pairs [(first, second), ...]\n",
    "    for first in digits.keys():\n",
    "        for second in digits.keys():\n",
    "            if  (first < second) and (digits[first] + digits[second] == SUMMA):\n",
    "                 pairs.append((first, second))\n",
    "     \n",
    "\n",
    "\n",
    "    # Check \"suspect\" pairs \n",
    "    pair_count = 0\n",
    "    for pair in pairs:\n",
    "        pair_count += 1\n",
    "        if string[pair[0] + 1: pair[1]].count(TOKEN) != NUM_OF_QMARKS:\n",
    "            return False\n",
    "    if pair_count == 0:\n",
    "        return False\n",
    "    return True\n",
    "\n",
    "\n",
    "\n",
    "\n",
    "string = \"arrb6???4xxbl5???eee5\"             #  true\n",
    "    # string = \"acc?7??sss?3rxr1??????5\"     #  true\n",
    "    # string = \"5??aazaaaaaaaaaaaaaaaaa?5?5\" #  false\n",
    "    # string = \"9???1a???9???1???9\"          #  true\n",
    "    # string = \"jya3?8\"                      #  false\n",
    "\n",
    "print(string) \n",
    "print(question_marks(string))"
   ]
  },
  {
   "cell_type": "code",
   "execution_count": 2,
   "metadata": {},
   "outputs": [
    {
     "name": "stdout",
     "output_type": "stream",
     "text": [
      "5??aazaaaaaaaaaaaaaaaaa?5?5\n",
      "False\n"
     ]
    }
   ],
   "source": [
    "string = \"5??aazaaaaaaaaaaaaaaaaa?5?5\" #  false\n",
    "print(string) \n",
    "print(question_marks(string))"
   ]
  },
  {
   "cell_type": "code",
   "execution_count": 3,
   "metadata": {},
   "outputs": [
    {
     "name": "stdout",
     "output_type": "stream",
     "text": [
      "acc?7??sss?3rxr1??????5\n",
      "True\n"
     ]
    }
   ],
   "source": [
    "string = \"acc?7??sss?3rxr1??????5\"     #  true\n",
    "print(string) \n",
    "print(question_marks(string))"
   ]
  },
  {
   "cell_type": "code",
   "execution_count": 4,
   "metadata": {},
   "outputs": [
    {
     "name": "stdout",
     "output_type": "stream",
     "text": [
      "9???1a???9???1???9\n",
      "False\n"
     ]
    }
   ],
   "source": [
    "string = \"9???1a???9???1???9\"          #  false\n",
    "print(string) \n",
    "print(question_marks(string))"
   ]
  },
  {
   "cell_type": "code",
   "execution_count": 5,
   "metadata": {},
   "outputs": [
    {
     "name": "stdout",
     "output_type": "stream",
     "text": [
      "jya3?8\n",
      "False\n"
     ]
    }
   ],
   "source": [
    "string = \"jya3?8\"                      #  false\n",
    "print(string) \n",
    "print(question_marks(string))"
   ]
  },
  {
   "cell_type": "code",
   "execution_count": 6,
   "metadata": {},
   "outputs": [
    {
     "name": "stdout",
     "output_type": "stream",
     "text": [
      "True\n",
      "False\n",
      "True\n",
      "True\n"
     ]
    }
   ],
   "source": [
    "print(question_marks(\"arrb6???4xxbl5???eee5\"))  #true\n",
    "print(question_marks(\"aa6?9\"))  #false\n",
    "print(question_marks(\"acc?7??sss?3rr1??????5\"))   #true\n",
    "print(question_marks(\"4???6fg6\"))   #true"
   ]
  }
 ],
 "metadata": {
  "kernelspec": {
   "display_name": "Python 3",
   "language": "python",
   "name": "python3"
  },
  "language_info": {
   "codemirror_mode": {
    "name": "ipython",
    "version": 3
   },
   "file_extension": ".py",
   "mimetype": "text/x-python",
   "name": "python",
   "nbconvert_exporter": "python",
   "pygments_lexer": "ipython3",
   "version": "3.7.3"
  }
 },
 "nbformat": 4,
 "nbformat_minor": 2
}
